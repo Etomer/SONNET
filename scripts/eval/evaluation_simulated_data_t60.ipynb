{
 "cells": [
  {
   "cell_type": "code",
   "execution_count": 1,
   "metadata": {},
   "outputs": [],
   "source": [
    "%reload_ext autoreload\n",
    "%autoreload 2\n",
    "import os, sys\n",
    "if 'notebook_path' not in vars():\n",
    "    notebook_path = os.getcwd()\n",
    "os.chdir(os.path.join(notebook_path,\"../..\"))\n",
    "sys.path.append(os.getcwd())\n",
    "import glob\n",
    "from scipy.io import wavfile\n",
    "import configs.config_gen as config_gen\n",
    "import configs.config_train as config_train\n",
    "import numpy as np\n",
    "from src.simulation import simulate_room_series_with_different_reverb\n",
    "import configs.config_eval as config_eval\n",
    "import h5py\n",
    "import matplotlib.pyplot as plt\n",
    "from src.DatasetTDE import DatasetTDE_eval\n",
    "import torch\n",
    "import matplotlib as mpl\n",
    "#import tikzplotlib\n",
    "np.random.seed(37)"
   ]
  },
  {
   "cell_type": "code",
   "execution_count": 2,
   "metadata": {},
   "outputs": [],
   "source": [
    "\n",
    "dataset_path = os.path.join(config_eval.dataset_target_folder ,config_eval.dataset_target_name + \".hdf5\")"
   ]
  },
  {
   "cell_type": "code",
   "execution_count": 3,
   "metadata": {},
   "outputs": [],
   "source": [
    "with h5py.File(dataset_path, \"r\") as hdf5_file:\n",
    "#with h5py.File(\"results/datasets/eval_old.hdf5\", \"r\") as hdf5_file:\n",
    "\n",
    "    dX = hdf5_file[\"input\"]\n",
    "    dY = hdf5_file[\"gt\"]\n",
    "    dZ = hdf5_file[\"t60s\"]\n",
    "    "
   ]
  },
  {
   "cell_type": "code",
   "execution_count": 4,
   "metadata": {},
   "outputs": [
    {
     "name": "stdout",
     "output_type": "stream",
     "text": [
      "new_reverb\n",
      "-\n",
      "new_reverb\n",
      "-\n",
      "new_reverb\n",
      "-\n",
      "new_reverb\n",
      "-\n",
      "new_reverb\n",
      "-\n",
      "new_reverb\n",
      "-\n",
      "new_reverb\n",
      "-\n",
      "new_reverb\n",
      "-\n",
      "new_reverb\n",
      "-\n",
      "new_reverb\n",
      "-\n",
      "new_reverb\n",
      "-\n"
     ]
    }
   ],
   "source": [
    "models = config_eval.get_models()\n",
    "residuals = {model_name : np.zeros((len(config_eval.reverberations_levels), config_eval.n_rooms_simulate*(config_eval.n_mics*(config_eval.n_mics-1))//2 )) for model_name in models}\n",
    "t60s = {model_name : np.zeros((len(config_eval.reverberations_levels), config_eval.n_rooms_simulate*(config_eval.n_mics*(config_eval.n_mics-1))//2 )) for model_name in models}\n",
    "with h5py.File(dataset_path, \"r\") as hdf5_file:\n",
    "#with h5py.File(\"results/datasets/eval_old.hdf5\", \"r\") as hdf5_file:\n",
    "\n",
    "    dX = hdf5_file[\"input\"]\n",
    "    dY = hdf5_file[\"gt\"]\n",
    "    dZ = hdf5_file[\"t60s\"]\n",
    "    \n",
    "    for i in range(len(config_eval.reverberations_levels)):\n",
    "    #for i in [8]:#range(2):\n",
    "        print(\"new_reverb\")\n",
    "        d = DatasetTDE_eval(dX[:,i],dY,t60=dZ[:,i],use_t60=True)\n",
    "        dl = torch.utils.data.DataLoader(d, batch_size=config_train.batch_size)\n",
    "        counter = 0\n",
    "        for X,y,t60 in dl:\n",
    "            print(\"-\")\n",
    "            X += X.std(dim=2,keepdim=True)/10**(config_eval.snr_at_reverb_measurement/20)\n",
    "            X,y = X.to(config_eval.device),y.to(config_eval.device)\n",
    "            for j, model_name in enumerate(models):\n",
    "                res = models[model_name](X).argmax(1) - (y + 500)\n",
    "                residuals[model_name][i,counter: counter + X.shape[0]] = res.cpu()\n",
    "                t60s[model_name][i,counter: counter + X.shape[0]] = t60\n",
    "            counter += X.shape[0]\n",
    "\n",
    "        \n",
    "\n",
    "\n",
    "\n"
   ]
  },
  {
   "cell_type": "code",
   "execution_count": 5,
   "metadata": {},
   "outputs": [
    {
     "data": {
      "image/png": "[encoded data removed]",
      "text/plain": [
       "<Figure size 400x300 with 1 Axes>"
      ]
     },
     "metadata": {},
     "output_type": "display_data"
    }
   ],
   "source": [
    "#plt.hist(np.reshape(t60s[\"SONNET\"],-1)/16000)\n",
    "#plt.plot(np.reshape(t60s[\"SONNET\"],-1)/16000,np.abs(np.reshape(residuals[\"SONNET\"],-1)),'.')\n",
    "plt.figure(figsize=(4,3))\n",
    "for model_name in models:\n",
    "    \n",
    "    resv = np.abs(np.reshape(residuals[model_name],-1)) < 5\n",
    "    t60v = np.reshape(t60s[model_name],-1)/16000\n",
    "\n",
    "    bins = 10\n",
    "    bin_edges = np.linspace(0,1,bins+1)\n",
    "    bin_index = np.zeros(t60v.shape)\n",
    "    inlier_ratio = np.zeros(bins)\n",
    "\n",
    "    for i in range(len(bin_edges)-1):\n",
    "        idx = (bin_edges[i] < t60v)*( t60v < bin_edges[i+1])\n",
    "        bin_index[idx] = i\n",
    "        inlier_ratio[i] = sum(resv[idx])/len(resv[idx])\n",
    "\n",
    "    plt.plot((bin_edges[:-1] + bin_edges[1:])/2,inlier_ratio,linewidth=3)\n",
    "\n",
    "    #plt.plot(config_eval.reverberations_levels,[np.sum(np.abs(residuals[model_name][reverb_i,:]) < 5)/residuals[model_name].shape[1] for reverb_i,reverb in enumerate(config_eval.reverberations_levels)],linewidth=3)\n",
    "        #plt.title(model_name)\n",
    "    plt.xlabel(\"$T_{60}$ (s)\")\n",
    "    plt.ylabel(\"Inlier ratio @ 10cm\")\n",
    "    plt.ylim(0,1)\n",
    "    plt.xlim(0,1)\n",
    "    plt.legend(models)\n",
    "#tikzplotlib.save(\"sim_reverb_sensitivity_snr10.tex\")\n",
    "#plt.show()\n",
    "#plt.savefig(\"file.pgf\")\n",
    "#plt.show()\n",
    "#t60v \n"
   ]
  },
  {
   "cell_type": "code",
   "execution_count": 6,
   "metadata": {},
   "outputs": [],
   "source": [
    "# plt.figure(figsize=(4,3))\n",
    "# for model_name in models:\n",
    "#     plt.plot(config_eval.reverberations_levels,[np.sum(np.abs(residuals[model_name][reverb_i,:]) < 5)/residuals[model_name].shape[1] for reverb_i,reverb in enumerate(config_eval.reverberations_levels)],linewidth=3)\n",
    "#     #plt.title(model_name)\n",
    "#     plt.xlabel(\"Reverberation coefficient\")\n",
    "#     plt.ylabel(\"Inlier ratio @ 10cm\")\n",
    "#     plt.ylim(0,1)\n",
    "#     plt.legend(models)\n",
    "#     #plt.plot(np.std(residuals[model_name][:,:1225],axis=1))\n",
    "#     #plt.hist(residuals[model_name][8,:],100)"
   ]
  },
  {
   "cell_type": "code",
   "execution_count": 7,
   "metadata": {},
   "outputs": [
    {
     "name": "stdout",
     "output_type": "stream",
     "text": [
      "new_noise\n",
      "-\n",
      "new_noise\n",
      "-\n",
      "new_noise\n",
      "-\n",
      "new_noise\n",
      "-\n",
      "new_noise\n",
      "-\n",
      "new_noise\n",
      "-\n",
      "new_noise\n",
      "-\n",
      "new_noise\n",
      "-\n",
      "new_noise\n",
      "-\n",
      "new_noise\n",
      "-\n",
      "new_noise\n",
      "-\n",
      "new_noise\n",
      "-\n",
      "new_noise\n",
      "-\n"
     ]
    }
   ],
   "source": [
    "residuals = {model_name : np.zeros((len(config_eval.snr_levels), config_eval.n_rooms_simulate*(config_eval.n_mics*(config_eval.n_mics-1))//2 )) for model_name in models}\n",
    "t60s = {model_name : np.zeros((len(config_eval.snr_levels), config_eval.n_rooms_simulate*(config_eval.n_mics*(config_eval.n_mics-1))//2 )) for model_name in models}\n",
    "with h5py.File(dataset_path, \"r\") as hdf5_file:\n",
    "#with h5py.File(\"results/datasets/eval_old.hdf5\", \"r\") as hdf5_file:\n",
    "\n",
    "    dX = hdf5_file[\"input\"]\n",
    "    dY = hdf5_file[\"gt\"]\n",
    "    dZ = hdf5_file[\"t60s\"]\n",
    "    \n",
    "    for i in range(len(config_eval.snr_levels)):\n",
    "    #for i in [8]:#range(2):\n",
    "        print(\"new_noise\")\n",
    "        d = DatasetTDE_eval(dX[:,config_eval.reverb_at_snr_dependency_measuring],dY,t60=dZ[:,config_eval.reverb_at_snr_dependency_measuring],use_t60=True)\n",
    "        dl = torch.utils.data.DataLoader(d, batch_size=config_train.batch_size)\n",
    "        counter = 0\n",
    "        for X,y,t60 in dl:\n",
    "            print(\"-\")\n",
    "            X += X.std(dim=2,keepdim=True)/10**(config_eval.snr_levels[i]/20)\n",
    "            X,y = X.to(config_eval.device),y.to(config_eval.device)\n",
    "            for j, model_name in enumerate(models):\n",
    "                res = models[model_name](X).argmax(1) - (y + 500)\n",
    "                residuals[model_name][i,counter: counter + X.shape[0]] = res.cpu()\n",
    "                t60s[model_name][i,counter: counter + X.shape[0]] = t60\n",
    "            counter += X.shape[0]\n",
    "\n",
    "        \n"
   ]
  },
  {
   "cell_type": "code",
   "execution_count": null,
   "metadata": {},
   "outputs": [],
   "source": []
  },
  {
   "cell_type": "code",
   "execution_count": 8,
   "metadata": {},
   "outputs": [
    {
     "data": {
      "image/png": "[encoded data removed]",
      "text/plain": [
       "<Figure size 400x300 with 1 Axes>"
      ]
     },
     "metadata": {},
     "output_type": "display_data"
    }
   ],
   "source": [
    "plt.figure(figsize=(4,3))\n",
    "for model_name in models:\n",
    "    idx = ((t60s[model_name][0])/16000 < 0.25)*((t60s[model_name][0])/16000 > 0.15)\n",
    "    plt.plot(config_eval.snr_levels,[np.sum(np.abs(residuals[model_name][snr_i,idx]) < 5)/sum(idx) for snr_i,snr in enumerate(config_eval.snr_levels)],linewidth=3)\n",
    "    #plt.title(\"Noise sensitivity @ T60=0.2 s\")\n",
    "    plt.xlabel(\"SNR (dB)\")\n",
    "    plt.ylabel(\"Inlier ratio @ 10cm\")\n",
    "    plt.ylim(0,1)\n",
    "    plt.legend(models)\n",
    "#tikzplotlib.save(\"sim_noise_sensitivity_02t60.tex\")"
   ]
  },
  {
   "cell_type": "code",
   "execution_count": null,
   "metadata": {},
   "outputs": [],
   "source": []
  },
  {
   "cell_type": "code",
   "execution_count": null,
   "metadata": {},
   "outputs": [],
   "source": []
  }
 ],
 "metadata": {
  "kernelspec": {
   "display_name": "Python 3",
   "language": "python",
   "name": "python3"
  },
  "language_info": {
   "codemirror_mode": {
    "name": "ipython",
    "version": 3
   },
   "file_extension": ".py",
   "mimetype": "text/x-python",
   "name": "python",
   "nbconvert_exporter": "python",
   "pygments_lexer": "ipython3",
   "version": "3.10.12"
  }
 },
 "nbformat": 4,
 "nbformat_minor": 2
}
